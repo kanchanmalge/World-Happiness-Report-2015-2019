{
 "cells": [
  {
   "cell_type": "code",
   "execution_count": 41,
   "id": "96b97d45",
   "metadata": {},
   "outputs": [],
   "source": [
    "import quandl\n",
    "import pandas as pd\n",
    "import numpy as np\n",
    "import seaborn as sns\n",
    "import matplotlib\n",
    "import matplotlib.pyplot as plt\n",
    "import statsmodels.api as sm # Using .api imports the public access version of statsmodels, which is a library that handles \n",
    "# statistical models.\n",
    "import os\n",
    "import warnings # This is a library that handles warnings.\n",
    "\n",
    "warnings.filterwarnings(\"ignore\") # Disable deprecation warnings that could indicate, for instance, a suspended library or \n",
    "# feature. These are more relevant to developers and very seldom to analysts.\n",
    "\n",
    "plt.style.use('fivethirtyeight') # This is a styling option for how your plots will appear. More examples here:\n",
    "# https://matplotlib.org/3.2.1/tutorials/introductory/customizing.html\n",
    "# https://matplotlib.org/3.1.0/gallery/style_sheets/fivethirtyeight.html"
   ]
  },
  {
   "cell_type": "code",
   "execution_count": 42,
   "id": "0d240f35",
   "metadata": {},
   "outputs": [],
   "source": [
    "#Import Path\n",
    "path = r'C:\\Users\\kanch\\Documents\\World Happiness Report\\02 Data\\Cleaned Data'"
   ]
  },
  {
   "cell_type": "code",
   "execution_count": 43,
   "id": "ba12ae79",
   "metadata": {},
   "outputs": [],
   "source": [
    "#open 2015.csv \n",
    "df_2015 = pd.read_csv(os.path.join(path, '2015.csv'),index_col = False)\n"
   ]
  },
  {
   "cell_type": "code",
   "execution_count": 44,
   "id": "060a1b2a",
   "metadata": {},
   "outputs": [],
   "source": [
    "#open 2016.csv\n",
    "df_2016 = pd.read_csv(os.path.join(path, '2016.csv'),index_col = False)"
   ]
  },
  {
   "cell_type": "code",
   "execution_count": 45,
   "id": "07d55ebb",
   "metadata": {},
   "outputs": [],
   "source": [
    "#open 2017.csv\n",
    "\n",
    "df_2017 = pd.read_csv(os.path.join(path, '2017.csv'),index_col = False)"
   ]
  },
  {
   "cell_type": "code",
   "execution_count": 46,
   "id": "ed2fcb44",
   "metadata": {},
   "outputs": [],
   "source": [
    "#open 2018.csv\n",
    "df_2018 = pd.read_csv(os.path.join(path, '2018.csv'),index_col = False)"
   ]
  },
  {
   "cell_type": "code",
   "execution_count": 47,
   "id": "cf4e09ae",
   "metadata": {},
   "outputs": [],
   "source": [
    "#open 2019.csv\n",
    "\n",
    "df_2019 = pd.read_csv(os.path.join(path, '2019.csv'),index_col = False)"
   ]
  },
  {
   "cell_type": "code",
   "execution_count": 48,
   "id": "159f3f7a",
   "metadata": {},
   "outputs": [],
   "source": [
    "# Concatenate all DataFrames into one\n",
    "combined_df = pd.concat([df_2015, df_2016, df_2017, df_2018, df_2019], ignore_index=True)"
   ]
  },
  {
   "cell_type": "markdown",
   "id": "a3f48529",
   "metadata": {},
   "source": [
    "# Find & Import Data Set"
   ]
  },
  {
   "cell_type": "code",
   "execution_count": 49,
   "id": "867d2257",
   "metadata": {},
   "outputs": [],
   "source": [
    "# Configure API key\n",
    "quandl.ApiConfig.api_key = '9VsRWt9d88qTb7CbEDx-'"
   ]
  },
  {
   "cell_type": "code",
   "execution_count": 50,
   "id": "d499dbf2",
   "metadata": {},
   "outputs": [],
   "source": [
    "combined_df = combined_df.drop(columns =['Unnamed: 0'])"
   ]
  },
  {
   "cell_type": "code",
   "execution_count": 51,
   "id": "8533e067",
   "metadata": {},
   "outputs": [
    {
     "data": {
      "text/plain": [
       "(782, 16)"
      ]
     },
     "execution_count": 51,
     "metadata": {},
     "output_type": "execute_result"
    }
   ],
   "source": [
    "combined_df.shape"
   ]
  },
  {
   "cell_type": "code",
   "execution_count": 52,
   "id": "0cf7fc90",
   "metadata": {},
   "outputs": [
    {
     "data": {
      "text/plain": [
       "Index(['Country', 'Region', 'Happiness Rank', 'Happiness Score',\n",
       "       'Standard Error', 'GDP', 'Family', 'Health', 'Freedom', 'Trust',\n",
       "       'Generosity', 'Dystopia Residual', 'Lower Confidence Interval',\n",
       "       'Upper Confidence Interval', 'Whisker high', 'Whisker low'],\n",
       "      dtype='object')"
      ]
     },
     "execution_count": 52,
     "metadata": {},
     "output_type": "execute_result"
    }
   ],
   "source": [
    "combined_df.columns"
   ]
  },
  {
   "cell_type": "code",
   "execution_count": 53,
   "id": "b64e10a2",
   "metadata": {},
   "outputs": [
    {
     "data": {
      "text/plain": [
       "pandas.core.frame.DataFrame"
      ]
     },
     "execution_count": 53,
     "metadata": {},
     "output_type": "execute_result"
    }
   ],
   "source": [
    "type(combined_df)"
   ]
  },
  {
   "cell_type": "code",
   "execution_count": 54,
   "id": "e78609e9",
   "metadata": {},
   "outputs": [
    {
     "data": {
      "text/html": [
       "<div>\n",
       "<style scoped>\n",
       "    .dataframe tbody tr th:only-of-type {\n",
       "        vertical-align: middle;\n",
       "    }\n",
       "\n",
       "    .dataframe tbody tr th {\n",
       "        vertical-align: top;\n",
       "    }\n",
       "\n",
       "    .dataframe thead th {\n",
       "        text-align: right;\n",
       "    }\n",
       "</style>\n",
       "<table border=\"1\" class=\"dataframe\">\n",
       "  <thead>\n",
       "    <tr style=\"text-align: right;\">\n",
       "      <th></th>\n",
       "      <th>Country</th>\n",
       "      <th>Region</th>\n",
       "      <th>Happiness Rank</th>\n",
       "      <th>Happiness Score</th>\n",
       "      <th>Standard Error</th>\n",
       "      <th>GDP</th>\n",
       "      <th>Family</th>\n",
       "      <th>Health</th>\n",
       "      <th>Freedom</th>\n",
       "      <th>Trust</th>\n",
       "      <th>Generosity</th>\n",
       "      <th>Dystopia Residual</th>\n",
       "      <th>Lower Confidence Interval</th>\n",
       "      <th>Upper Confidence Interval</th>\n",
       "      <th>Whisker high</th>\n",
       "      <th>Whisker low</th>\n",
       "    </tr>\n",
       "  </thead>\n",
       "  <tbody>\n",
       "    <tr>\n",
       "      <th>0</th>\n",
       "      <td>Switzerland</td>\n",
       "      <td>Western Europe</td>\n",
       "      <td>1</td>\n",
       "      <td>7.587</td>\n",
       "      <td>0.03411</td>\n",
       "      <td>1.39651</td>\n",
       "      <td>1.34951</td>\n",
       "      <td>0.94143</td>\n",
       "      <td>0.66557</td>\n",
       "      <td>0.41978</td>\n",
       "      <td>0.29678</td>\n",
       "      <td>2.51738</td>\n",
       "      <td>NaN</td>\n",
       "      <td>NaN</td>\n",
       "      <td>NaN</td>\n",
       "      <td>NaN</td>\n",
       "    </tr>\n",
       "    <tr>\n",
       "      <th>1</th>\n",
       "      <td>Iceland</td>\n",
       "      <td>Western Europe</td>\n",
       "      <td>2</td>\n",
       "      <td>7.561</td>\n",
       "      <td>0.04884</td>\n",
       "      <td>1.30232</td>\n",
       "      <td>1.40223</td>\n",
       "      <td>0.94784</td>\n",
       "      <td>0.62877</td>\n",
       "      <td>0.14145</td>\n",
       "      <td>0.43630</td>\n",
       "      <td>2.70201</td>\n",
       "      <td>NaN</td>\n",
       "      <td>NaN</td>\n",
       "      <td>NaN</td>\n",
       "      <td>NaN</td>\n",
       "    </tr>\n",
       "    <tr>\n",
       "      <th>2</th>\n",
       "      <td>Denmark</td>\n",
       "      <td>Western Europe</td>\n",
       "      <td>3</td>\n",
       "      <td>7.527</td>\n",
       "      <td>0.03328</td>\n",
       "      <td>1.32548</td>\n",
       "      <td>1.36058</td>\n",
       "      <td>0.87464</td>\n",
       "      <td>0.64938</td>\n",
       "      <td>0.48357</td>\n",
       "      <td>0.34139</td>\n",
       "      <td>2.49204</td>\n",
       "      <td>NaN</td>\n",
       "      <td>NaN</td>\n",
       "      <td>NaN</td>\n",
       "      <td>NaN</td>\n",
       "    </tr>\n",
       "    <tr>\n",
       "      <th>3</th>\n",
       "      <td>Norway</td>\n",
       "      <td>Western Europe</td>\n",
       "      <td>4</td>\n",
       "      <td>7.522</td>\n",
       "      <td>0.03880</td>\n",
       "      <td>1.45900</td>\n",
       "      <td>1.33095</td>\n",
       "      <td>0.88521</td>\n",
       "      <td>0.66973</td>\n",
       "      <td>0.36503</td>\n",
       "      <td>0.34699</td>\n",
       "      <td>2.46531</td>\n",
       "      <td>NaN</td>\n",
       "      <td>NaN</td>\n",
       "      <td>NaN</td>\n",
       "      <td>NaN</td>\n",
       "    </tr>\n",
       "    <tr>\n",
       "      <th>4</th>\n",
       "      <td>Canada</td>\n",
       "      <td>North America</td>\n",
       "      <td>5</td>\n",
       "      <td>7.427</td>\n",
       "      <td>0.03553</td>\n",
       "      <td>1.32629</td>\n",
       "      <td>1.32261</td>\n",
       "      <td>0.90563</td>\n",
       "      <td>0.63297</td>\n",
       "      <td>0.32957</td>\n",
       "      <td>0.45811</td>\n",
       "      <td>2.45176</td>\n",
       "      <td>NaN</td>\n",
       "      <td>NaN</td>\n",
       "      <td>NaN</td>\n",
       "      <td>NaN</td>\n",
       "    </tr>\n",
       "    <tr>\n",
       "      <th>...</th>\n",
       "      <td>...</td>\n",
       "      <td>...</td>\n",
       "      <td>...</td>\n",
       "      <td>...</td>\n",
       "      <td>...</td>\n",
       "      <td>...</td>\n",
       "      <td>...</td>\n",
       "      <td>...</td>\n",
       "      <td>...</td>\n",
       "      <td>...</td>\n",
       "      <td>...</td>\n",
       "      <td>...</td>\n",
       "      <td>...</td>\n",
       "      <td>...</td>\n",
       "      <td>...</td>\n",
       "      <td>...</td>\n",
       "    </tr>\n",
       "    <tr>\n",
       "      <th>777</th>\n",
       "      <td>Rwanda</td>\n",
       "      <td>NaN</td>\n",
       "      <td>152</td>\n",
       "      <td>3.334</td>\n",
       "      <td>NaN</td>\n",
       "      <td>0.35900</td>\n",
       "      <td>0.71100</td>\n",
       "      <td>0.61400</td>\n",
       "      <td>0.55500</td>\n",
       "      <td>0.41100</td>\n",
       "      <td>0.21700</td>\n",
       "      <td>NaN</td>\n",
       "      <td>NaN</td>\n",
       "      <td>NaN</td>\n",
       "      <td>NaN</td>\n",
       "      <td>NaN</td>\n",
       "    </tr>\n",
       "    <tr>\n",
       "      <th>778</th>\n",
       "      <td>Tanzania</td>\n",
       "      <td>NaN</td>\n",
       "      <td>153</td>\n",
       "      <td>3.231</td>\n",
       "      <td>NaN</td>\n",
       "      <td>0.47600</td>\n",
       "      <td>0.88500</td>\n",
       "      <td>0.49900</td>\n",
       "      <td>0.41700</td>\n",
       "      <td>0.14700</td>\n",
       "      <td>0.27600</td>\n",
       "      <td>NaN</td>\n",
       "      <td>NaN</td>\n",
       "      <td>NaN</td>\n",
       "      <td>NaN</td>\n",
       "      <td>NaN</td>\n",
       "    </tr>\n",
       "    <tr>\n",
       "      <th>779</th>\n",
       "      <td>Afghanistan</td>\n",
       "      <td>NaN</td>\n",
       "      <td>154</td>\n",
       "      <td>3.203</td>\n",
       "      <td>NaN</td>\n",
       "      <td>0.35000</td>\n",
       "      <td>0.51700</td>\n",
       "      <td>0.36100</td>\n",
       "      <td>0.00000</td>\n",
       "      <td>0.02500</td>\n",
       "      <td>0.15800</td>\n",
       "      <td>NaN</td>\n",
       "      <td>NaN</td>\n",
       "      <td>NaN</td>\n",
       "      <td>NaN</td>\n",
       "      <td>NaN</td>\n",
       "    </tr>\n",
       "    <tr>\n",
       "      <th>780</th>\n",
       "      <td>Central African Republic</td>\n",
       "      <td>NaN</td>\n",
       "      <td>155</td>\n",
       "      <td>3.083</td>\n",
       "      <td>NaN</td>\n",
       "      <td>0.02600</td>\n",
       "      <td>0.00000</td>\n",
       "      <td>0.10500</td>\n",
       "      <td>0.22500</td>\n",
       "      <td>0.03500</td>\n",
       "      <td>0.23500</td>\n",
       "      <td>NaN</td>\n",
       "      <td>NaN</td>\n",
       "      <td>NaN</td>\n",
       "      <td>NaN</td>\n",
       "      <td>NaN</td>\n",
       "    </tr>\n",
       "    <tr>\n",
       "      <th>781</th>\n",
       "      <td>South Sudan</td>\n",
       "      <td>NaN</td>\n",
       "      <td>156</td>\n",
       "      <td>2.853</td>\n",
       "      <td>NaN</td>\n",
       "      <td>0.30600</td>\n",
       "      <td>0.57500</td>\n",
       "      <td>0.29500</td>\n",
       "      <td>0.01000</td>\n",
       "      <td>0.09100</td>\n",
       "      <td>0.20200</td>\n",
       "      <td>NaN</td>\n",
       "      <td>NaN</td>\n",
       "      <td>NaN</td>\n",
       "      <td>NaN</td>\n",
       "      <td>NaN</td>\n",
       "    </tr>\n",
       "  </tbody>\n",
       "</table>\n",
       "<p>782 rows × 16 columns</p>\n",
       "</div>"
      ],
      "text/plain": [
       "                      Country          Region  Happiness Rank  \\\n",
       "0                 Switzerland  Western Europe               1   \n",
       "1                     Iceland  Western Europe               2   \n",
       "2                     Denmark  Western Europe               3   \n",
       "3                      Norway  Western Europe               4   \n",
       "4                      Canada   North America               5   \n",
       "..                        ...             ...             ...   \n",
       "777                    Rwanda             NaN             152   \n",
       "778                  Tanzania             NaN             153   \n",
       "779               Afghanistan             NaN             154   \n",
       "780  Central African Republic             NaN             155   \n",
       "781               South Sudan             NaN             156   \n",
       "\n",
       "     Happiness Score  Standard Error      GDP   Family   Health  Freedom  \\\n",
       "0              7.587         0.03411  1.39651  1.34951  0.94143  0.66557   \n",
       "1              7.561         0.04884  1.30232  1.40223  0.94784  0.62877   \n",
       "2              7.527         0.03328  1.32548  1.36058  0.87464  0.64938   \n",
       "3              7.522         0.03880  1.45900  1.33095  0.88521  0.66973   \n",
       "4              7.427         0.03553  1.32629  1.32261  0.90563  0.63297   \n",
       "..               ...             ...      ...      ...      ...      ...   \n",
       "777            3.334             NaN  0.35900  0.71100  0.61400  0.55500   \n",
       "778            3.231             NaN  0.47600  0.88500  0.49900  0.41700   \n",
       "779            3.203             NaN  0.35000  0.51700  0.36100  0.00000   \n",
       "780            3.083             NaN  0.02600  0.00000  0.10500  0.22500   \n",
       "781            2.853             NaN  0.30600  0.57500  0.29500  0.01000   \n",
       "\n",
       "       Trust  Generosity  Dystopia Residual  Lower Confidence Interval  \\\n",
       "0    0.41978     0.29678            2.51738                        NaN   \n",
       "1    0.14145     0.43630            2.70201                        NaN   \n",
       "2    0.48357     0.34139            2.49204                        NaN   \n",
       "3    0.36503     0.34699            2.46531                        NaN   \n",
       "4    0.32957     0.45811            2.45176                        NaN   \n",
       "..       ...         ...                ...                        ...   \n",
       "777  0.41100     0.21700                NaN                        NaN   \n",
       "778  0.14700     0.27600                NaN                        NaN   \n",
       "779  0.02500     0.15800                NaN                        NaN   \n",
       "780  0.03500     0.23500                NaN                        NaN   \n",
       "781  0.09100     0.20200                NaN                        NaN   \n",
       "\n",
       "     Upper Confidence Interval  Whisker high  Whisker low  \n",
       "0                          NaN           NaN          NaN  \n",
       "1                          NaN           NaN          NaN  \n",
       "2                          NaN           NaN          NaN  \n",
       "3                          NaN           NaN          NaN  \n",
       "4                          NaN           NaN          NaN  \n",
       "..                         ...           ...          ...  \n",
       "777                        NaN           NaN          NaN  \n",
       "778                        NaN           NaN          NaN  \n",
       "779                        NaN           NaN          NaN  \n",
       "780                        NaN           NaN          NaN  \n",
       "781                        NaN           NaN          NaN  \n",
       "\n",
       "[782 rows x 16 columns]"
      ]
     },
     "execution_count": 54,
     "metadata": {},
     "output_type": "execute_result"
    }
   ],
   "source": [
    "combined_df\n"
   ]
  },
  {
   "cell_type": "code",
   "execution_count": 55,
   "id": "5039a92e",
   "metadata": {},
   "outputs": [],
   "source": [
    "# Create a subset of countries in the \"Western Europe\" region with specific columns\n",
    "subset = combined_df.loc[combined_df['Region'] == 'Western Europe', ['Country', 'Happiness Score', 'GDP', 'Family', 'Health', 'Freedom']]\n"
   ]
  },
  {
   "cell_type": "code",
   "execution_count": 56,
   "id": "8bb3f37a",
   "metadata": {},
   "outputs": [
    {
     "data": {
      "text/html": [
       "<div>\n",
       "<style scoped>\n",
       "    .dataframe tbody tr th:only-of-type {\n",
       "        vertical-align: middle;\n",
       "    }\n",
       "\n",
       "    .dataframe tbody tr th {\n",
       "        vertical-align: top;\n",
       "    }\n",
       "\n",
       "    .dataframe thead th {\n",
       "        text-align: right;\n",
       "    }\n",
       "</style>\n",
       "<table border=\"1\" class=\"dataframe\">\n",
       "  <thead>\n",
       "    <tr style=\"text-align: right;\">\n",
       "      <th></th>\n",
       "      <th>Country</th>\n",
       "      <th>Happiness Score</th>\n",
       "      <th>GDP</th>\n",
       "      <th>Family</th>\n",
       "      <th>Health</th>\n",
       "      <th>Freedom</th>\n",
       "    </tr>\n",
       "  </thead>\n",
       "  <tbody>\n",
       "    <tr>\n",
       "      <th>0</th>\n",
       "      <td>Switzerland</td>\n",
       "      <td>7.587</td>\n",
       "      <td>1.39651</td>\n",
       "      <td>1.34951</td>\n",
       "      <td>0.94143</td>\n",
       "      <td>0.66557</td>\n",
       "    </tr>\n",
       "    <tr>\n",
       "      <th>1</th>\n",
       "      <td>Iceland</td>\n",
       "      <td>7.561</td>\n",
       "      <td>1.30232</td>\n",
       "      <td>1.40223</td>\n",
       "      <td>0.94784</td>\n",
       "      <td>0.62877</td>\n",
       "    </tr>\n",
       "    <tr>\n",
       "      <th>2</th>\n",
       "      <td>Denmark</td>\n",
       "      <td>7.527</td>\n",
       "      <td>1.32548</td>\n",
       "      <td>1.36058</td>\n",
       "      <td>0.87464</td>\n",
       "      <td>0.64938</td>\n",
       "    </tr>\n",
       "    <tr>\n",
       "      <th>3</th>\n",
       "      <td>Norway</td>\n",
       "      <td>7.522</td>\n",
       "      <td>1.45900</td>\n",
       "      <td>1.33095</td>\n",
       "      <td>0.88521</td>\n",
       "      <td>0.66973</td>\n",
       "    </tr>\n",
       "    <tr>\n",
       "      <th>5</th>\n",
       "      <td>Finland</td>\n",
       "      <td>7.406</td>\n",
       "      <td>1.29025</td>\n",
       "      <td>1.31826</td>\n",
       "      <td>0.88911</td>\n",
       "      <td>0.64169</td>\n",
       "    </tr>\n",
       "  </tbody>\n",
       "</table>\n",
       "</div>"
      ],
      "text/plain": [
       "       Country  Happiness Score      GDP   Family   Health  Freedom\n",
       "0  Switzerland            7.587  1.39651  1.34951  0.94143  0.66557\n",
       "1      Iceland            7.561  1.30232  1.40223  0.94784  0.62877\n",
       "2      Denmark            7.527  1.32548  1.36058  0.87464  0.64938\n",
       "3       Norway            7.522  1.45900  1.33095  0.88521  0.66973\n",
       "5      Finland            7.406  1.29025  1.31826  0.88911  0.64169"
      ]
     },
     "execution_count": 56,
     "metadata": {},
     "output_type": "execute_result"
    }
   ],
   "source": [
    "subset.head()"
   ]
  },
  {
   "cell_type": "markdown",
   "id": "40365d93",
   "metadata": {},
   "source": [
    "# Line Chart\n"
   ]
  },
  {
   "cell_type": "code",
   "execution_count": 57,
   "id": "1e94722d",
   "metadata": {},
   "outputs": [
    {
     "data": {
      "image/png": "[encoded data removed]",
      "text/plain": [
       "<Figure size 1000x600 with 1 Axes>"
      ]
     },
     "metadata": {},
     "output_type": "display_data"
    }
   ],
   "source": [
    "\n",
    "import matplotlib.pyplot as plt\n",
    "\n",
    "# Assuming 'combined_df' contains your data\n",
    "plt.figure(figsize=(10, 6))\n",
    "\n",
    "# Plotting Happiness Score for all countries\n",
    "plt.plot(combined_df['Happiness Score'], label='Happiness Score', marker='o', linestyle='-')\n",
    "\n",
    "plt.xlabel('Country')\n",
    "plt.ylabel('Happiness Score')\n",
    "plt.title('Happiness Score Across Countries')\n",
    "plt.xticks(rotation=90)  # Rotate x-axis labels for better visibility\n",
    "plt.legend()\n",
    "plt.grid(True)\n",
    "\n",
    "# Specify the export path\n",
    "export_path = r'C:\\Users\\kanch\\Documents\\World Happiness Report\\04 Analysis\\Visualizations\\Happiness_Score_Across_Countries.png'\n",
    "\n",
    "# Save the plot as an image\n",
    "plt.savefig(export_path)\n",
    "\n",
    "# Show the plot (optional)\n",
    "plt.show()\n",
    "\n"
   ]
  },
  {
   "cell_type": "markdown",
   "id": "94440337",
   "metadata": {},
   "source": [
    "The line chart provides a visual representation of how the \"Happiness Score\" varies across different countries in your dataset. It allows you to compare and analyze happiness scores for each country and identify any trends or patterns. The graph is particularly useful for conveying this information graphically, making it easier for others to understand and interpret the data."
   ]
  },
  {
   "cell_type": "markdown",
   "id": "38b5585b",
   "metadata": {},
   "source": [
    "# Decompose Data Components\n",
    "\n",
    "\n",
    "Decomposing data components typically involves time series data and is commonly done to understand its underlying trends, seasonality, and noise. In my project analysis, I am working with a dataset related to happiness scores across different countries over several years. Since my dataset doesn't appear to be a time series, traditional decomposition methods like seasonal decomposition wouldn't apply.\n"
   ]
  },
  {
   "cell_type": "markdown",
   "id": "c7ec706c",
   "metadata": {},
   "source": [
    "# Conduct a Dickey-Fuller test to check for stationarity.\n",
    "Interpret the results in a markdown cell and reference your null hypothesis."
   ]
  },
  {
   "cell_type": "code",
   "execution_count": 61,
   "id": "fc919b0e",
   "metadata": {},
   "outputs": [
    {
     "name": "stdout",
     "output_type": "stream",
     "text": [
      "Reject the null hypothesis: The data is stationary.\n"
     ]
    }
   ],
   "source": [
    "from statsmodels.tsa.stattools import adfuller\n",
    "\n",
    "\n",
    "happiness_scores = combined_df['Happiness Score']\n",
    "\n",
    "# Perform the Augmented Dickey-Fuller test\n",
    "result = adfuller(happiness_scores)\n",
    "\n",
    "# Rest of your code remains the same\n",
    "test_statistic = result[0]\n",
    "p_value = result[1]\n",
    "alpha = 0.05\n",
    "\n",
    "if p_value < alpha:\n",
    "    print(\"Reject the null hypothesis: The data is stationary.\")\n",
    "else:\n",
    "    print(\"Fail to reject the null hypothesis: The data is non-stationary.\")\n"
   ]
  },
  {
   "cell_type": "markdown",
   "id": "ccb236cb",
   "metadata": {},
   "source": [
    "Interpretation of Result\n",
    "\n",
    "If p-value < alpha (significance level): In this case, the p-value is smaller than the chosen significance level (alpha). Therefore, we reject the null hypothesis. This indicates that the data is stationary, and it does not possess a unit root. The statistical properties of the time series do not change over time. In other words, there is evidence to suggest that the data is not trending or seasonally varying.\n",
    "    \n",
    "If p-value >= alpha (significance level): If the p-value is greater than or equal to the chosen significance level (alpha), we fail to reject the null hypothesis. This implies that the data is non-stationary, and there may be evidence of trends or seasonality."
   ]
  },
  {
   "cell_type": "markdown",
   "id": "d9715da0",
   "metadata": {},
   "source": [
    "# Check your data’s autocorrelations."
   ]
  },
  {
   "cell_type": "code",
   "execution_count": 62,
   "id": "71ebd7c7",
   "metadata": {},
   "outputs": [
    {
     "data": {
      "image/png": "[encoded data removed]",
      "text/plain": [
       "<Figure size 640x480 with 1 Axes>"
      ]
     },
     "metadata": {},
     "output_type": "display_data"
    }
   ],
   "source": [
    "import statsmodels.api as sm\n",
    "import matplotlib.pyplot as plt\n",
    "\n",
    "# Assuming 'happiness_scores' is your time series data\n",
    "acf = sm.graphics.tsa.plot_acf(happiness_scores, lags=40)  # Adjust the number of lags as needed\n",
    "plt.title('Autocorrelation Function (ACF) Plot')\n",
    "plt.xlabel('Lags')\n",
    "plt.ylabel('Autocorrelation')\n",
    "plt.savefig(r'C:\\Users\\kanch\\Documents\\World Happiness Report\\04 Analysis\\Visualizations\\ACF_Plot.png', dpi=300, bbox_inches='tight')\n"
   ]
  },
  {
   "cell_type": "markdown",
   "id": "12d195c4",
   "metadata": {},
   "source": [
    "#The above chart plots the autocorrelation function (ACF) of the time series data stored in the happiness_scores variable. The lags parameter determines how many lags (time intervals) are considered in the plot. In this case, I've set it to 40, meaning it will show autocorrelations up to 40 time intervals (lags)."
   ]
  },
  {
   "cell_type": "code",
   "execution_count": 63,
   "id": "1a5dd773",
   "metadata": {},
   "outputs": [
    {
     "name": "stdout",
     "output_type": "stream",
     "text": [
      "DataFrame has been exported to Excel successfully.\n"
     ]
    }
   ],
   "source": [
    "# Specify the file path where you want to save the Excel file\n",
    "excel_file_path = r'C:\\Users\\kanch\\Documents\\World Happiness Report\\02 Data\\Prepared Data.xlsx'  # Replace with your desired file path\n",
    "\n",
    "# Export the DataFrame to an Excel file\n",
    "combined_df.to_excel(excel_file_path, index=False)  # Set index to False if you don't want to save the index\n",
    "\n",
    "print(\"DataFrame has been exported to Excel successfully.\")\n"
   ]
  },
  {
   "cell_type": "code",
   "execution_count": null,
   "id": "f84f66c6",
   "metadata": {},
   "outputs": [],
   "source": []
  }
 ],
 "metadata": {
  "kernelspec": {
   "display_name": "Python 3 (ipykernel)",
   "language": "python",
   "name": "python3"
  },
  "language_info": {
   "codemirror_mode": {
    "name": "ipython",
    "version": 3
   },
   "file_extension": ".py",
   "mimetype": "text/x-python",
   "name": "python",
   "nbconvert_exporter": "python",
   "pygments_lexer": "ipython3",
   "version": "3.11.4"
  }
 },
 "nbformat": 4,
 "nbformat_minor": 5
}
